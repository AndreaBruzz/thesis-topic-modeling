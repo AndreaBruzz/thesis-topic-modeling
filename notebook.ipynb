{
 "cells": [
  {
   "cell_type": "markdown",
   "id": "77627b17",
   "metadata": {},
   "source": [
    "# DISCLAIMER:\n",
    "This is a lighter version of the project. It is built only to easily visualize data step by step and perform tests \"on the fly\".\n",
    "\n",
    "NOTE: may not be alligned to the latest version of `main.py`, refer to that one to be sure to run the most updated version of the code."
   ]
  },
  {
   "cell_type": "markdown",
   "id": "12873ec7",
   "metadata": {},
   "source": [
    "## Imports"
   ]
  },
  {
   "cell_type": "code",
   "execution_count": null,
   "id": "58f32d2d",
   "metadata": {},
   "outputs": [],
   "source": [
    "# !pip install -r requirements.txt"
   ]
  },
  {
   "cell_type": "code",
   "execution_count": null,
   "id": "3e70fecb",
   "metadata": {},
   "outputs": [],
   "source": [
    "from itertools import combinations\n",
    "from parsers import TipsterParser, QueryParser\n",
    "from tuners import NMFTuner\n",
    "\n",
    "import argparse\n",
    "import bert_helpers\n",
    "import es_helpers\n",
    "import octis_helpers\n",
    "import operators\n",
    "import random\n",
    "import utils\n",
    "import genai_helpers"
   ]
  },
  {
   "cell_type": "markdown",
   "id": "b7fdf1b2",
   "metadata": {},
   "source": [
    "## Args setup"
   ]
  },
  {
   "cell_type": "code",
   "execution_count": null,
   "id": "7e07ec6c",
   "metadata": {},
   "outputs": [],
   "source": [
    "def get_args():\n",
    "    return argparse.Namespace(\n",
    "        index=False,\n",
    "        delete_index=False,\n",
    "        evaluate=False,\n",
    "        run_index='tipster_45_kstem',\n",
    "        tune=False,\n",
    "        simulate=False,\n",
    "        verbose=True,\n",
    "        feedback_method='Pseudo Feedback',\n",
    "        evaluation_type='Residual Ranking',\n",
    "        vocab_source='Terms window',\n",
    "        topic_model='NMF',\n",
    "        embedding_type='embedding_full',\n",
    "        topics_type='join'\n",
    "    )\n",
    "\n",
    "args = get_args()"
   ]
  },
  {
   "cell_type": "markdown",
   "id": "58d59743",
   "metadata": {},
   "source": [
    "## ES connection and Index choice"
   ]
  },
  {
   "cell_type": "code",
   "execution_count": null,
   "id": "ff7250fe",
   "metadata": {},
   "outputs": [],
   "source": [
    "es, _ = utils.setup()\n",
    "index = args.run_index"
   ]
  },
  {
   "cell_type": "markdown",
   "id": "887d1f19",
   "metadata": {},
   "source": [
    "## Parsing queries and random selection"
   ]
  },
  {
   "cell_type": "code",
   "execution_count": null,
   "id": "a4b54866",
   "metadata": {},
   "outputs": [],
   "source": [
    "query_parser = QueryParser('storage/queries/robust04.topics')\n",
    "queries = query_parser.parse_queries()\n",
    "query = random.choice(list(queries.values()))\n",
    "\n",
    "print(f'Query: {query[\"title\"]}')"
   ]
  },
  {
   "cell_type": "markdown",
   "id": "b1e823c3",
   "metadata": {},
   "source": [
    "## Run search"
   ]
  },
  {
   "cell_type": "code",
   "execution_count": null,
   "id": "b074fb38",
   "metadata": {},
   "outputs": [],
   "source": [
    "feedback_type = args.feedback_method\n",
    "evaluation_type = args.evaluation_type\n",
    "\n",
    "res = es_helpers.search(es, index, query)\n",
    "\n",
    "if feedback_type == 'Pseudo Feedback':\n",
    "    oracle_res = es_helpers.search(es, index, query, 75)\n",
    "else:\n",
    "    oracle_res = utils.ask_oracle(res, query, feedback_type)\n",
    "    if \"Oracle\" in feedback_type:\n",
    "        oracle_res = es_helpers.search_by_id(es, index, oracle_res)"
   ]
  },
  {
   "cell_type": "markdown",
   "id": "b91b0de3",
   "metadata": {},
   "source": [
    "## First docs ranking"
   ]
  },
  {
   "cell_type": "code",
   "execution_count": null,
   "id": "d0110bd5",
   "metadata": {},
   "outputs": [],
   "source": [
    "ranked_docs = [(hit['_id'], hit['_score']) for hit in res['hits']['hits']]\n",
    "utils.print_rank(ranked_docs)"
   ]
  },
  {
   "cell_type": "markdown",
   "id": "99f8c3da",
   "metadata": {},
   "source": [
    "## Oracle and Dictionary Creation"
   ]
  },
  {
   "cell_type": "code",
   "execution_count": null,
   "id": "cd369537",
   "metadata": {},
   "outputs": [],
   "source": [
    "oracle_docs = {hit['_id']: hit['_source']['text'] for hit in oracle_res['hits']['hits']}\n",
    "oracle_texts = list(oracle_docs.values())\n",
    "oracle_ids = list(oracle_docs.keys())\n",
    "\n",
    "selected_vocab = args.vocab_source\n",
    "\n",
    "if selected_vocab == 'Terms window':\n",
    "    vocabulary = es_helpers.get_terms_window(es, index, query, oracle_texts)\n",
    "else:\n",
    "    vocabulary = es_helpers.get_significant_words(es, index, query, oracle_ids)"
   ]
  },
  {
   "cell_type": "markdown",
   "id": "3edc2f62",
   "metadata": {},
   "source": [
    "## Topic modeling"
   ]
  },
  {
   "cell_type": "code",
   "execution_count": null,
   "id": "1e001b29",
   "metadata": {},
   "outputs": [],
   "source": [
    "dataset = octis_helpers.create_dataset(oracle_texts, vocabulary)\n",
    "topics = 6\n",
    "topwords = 6\n",
    "\n",
    "# NMF\n",
    "print('\\n###### NMF MODEL ######\\n')\n",
    "nmf_output, nmf_id2word = octis_helpers.run_nmf_model(dataset, topics, topwords)\n",
    "octis_helpers.evaluate_model(nmf_output, dataset, topwords)\n",
    "octis_helpers.display_topics(nmf_output, nmf_id2word, topwords)\n",
    "\n",
    "# BERT\n",
    "print('\\n###### BERT MODEL ######\\n')\n",
    "bert_output, bert_id2word = bert_helpers.run_bertopic_model(topwords)\n",
    "bert_helpers.evaluate_model(bert_output, dataset, topwords)\n",
    "bert_helpers.display_topics(bert_output, True)"
   ]
  },
  {
   "cell_type": "markdown",
   "id": "51e347c7",
   "metadata": {},
   "source": [
    "## Meet & Join"
   ]
  },
  {
   "cell_type": "code",
   "execution_count": null,
   "id": "59a404f1",
   "metadata": {},
   "outputs": [],
   "source": [
    "topic_model = args.topic_model or utils.select_model()\n",
    "topic_vectors = (\n",
    "    octis_helpers.get_topic_vectors(nmf_output)\n",
    "    if topic_model == 'NMF' else\n",
    "    bert_helpers.get_topic_vectors(bert_output)\n",
    ")\n",
    "id2word = nmf_id2word if topic_model == 'NMF' else bert_id2word\n",
    "\n",
    "# JOIN\n",
    "join_topic_vectors = [op for v1, v2 in combinations(topic_vectors, 2) for op in operators.join(v1, v2)]\n",
    "join_topics = [utils.topic_from_vector(id2word, vec, topwords) for vec in join_topic_vectors]\n",
    "print('JOIN Topics:\\n', join_topics)\n",
    "\n",
    "# MEET\n",
    "meet_topic_vectors = [operators.meet(v1, v2, v3, v4)\n",
    "                      for v1, v2, v3, v4 in combinations(topic_vectors, 4)]\n",
    "meet_topics = [utils.topic_from_vector(id2word, vec, topwords) for vec in meet_topic_vectors]\n",
    "print('MEET Topics:\\n', meet_topics)\n"
   ]
  },
  {
   "cell_type": "markdown",
   "id": "a858a77c",
   "metadata": {},
   "source": [
    "## Reranking"
   ]
  },
  {
   "cell_type": "code",
   "execution_count": null,
   "id": "e04090cd",
   "metadata": {},
   "outputs": [],
   "source": [
    "embedding_type = args.embedding_type\n",
    "documents_embeddings = [hit[\"_source\"][embedding_type] for hit in res['hits']['hits']]\n",
    "documents = {hit['_id']: hit[\"_source\"][\"text\"] for hit in res['hits']['hits']}\n",
    "\n",
    "topics_type = args.topics_type or utils.select_topics_for_reranking()\n",
    "reranking_topics = join_topics if topics_type == 'join' else meet_topics\n",
    "\n",
    "reranked_docs = utils.rerank_documents(evaluation_type, ranked_docs, oracle_docs, documents, documents_embeddings, query, reranking_topics)\n",
    "print('\\nRERANKED DOCUMENTS:')\n",
    "utils.print_rank(reranked_docs, ranked_docs)\n"
   ]
  },
  {
   "cell_type": "markdown",
   "id": "2e1f9e1e",
   "metadata": {},
   "source": [
    "## Relevance Feedback from Gemini"
   ]
  },
  {
   "cell_type": "code",
   "execution_count": null,
   "id": "d2a544fb",
   "metadata": {},
   "outputs": [],
   "source": [
    "import time\n",
    "import pymongo_helpers\n",
    "\n",
    "client = pymongo_helpers.client()\n",
    "rel_collection = pymongo_helpers.get_collection(\"query_doc_rel\", \"relevance_feedback\", client)\n",
    "docs_collection = pymongo_helpers.get_collection(\"documents\", \"relevance_feedback\", client)\n",
    "queries_collection = pymongo_helpers.get_collection(\"queries\", \"relevance_feedback\", client)\n",
    "\n",
    "for i in range(15):\n",
    "    doc_id = reranked_docs[i][0]\n",
    "    doc_text = documents.get(doc_id, \"[NONE]\")\n",
    "\n",
    "    client = genai_helpers.client()\n",
    "    rel, notes = genai_helpers.ask(doc_text, query, client)\n",
    "    print(f\"Gemini relevance for doc {doc_id}\")\n",
    "    print(f\"Rel: {True if rel == 1 else False}\")\n",
    "    print(f\"Notes: {notes}\\n\")\n",
    "\n",
    "    document = pymongo_helpers.format_data(doc_id, query[\"num\"], rel, i + 1, notes)\n",
    "    query_data = {\n",
    "        '_id' : query[\"num\"],\n",
    "        'query': query[\"title\"],\n",
    "    }\n",
    "    doc_data = {\n",
    "        '_id' : doc_id,\n",
    "        'text': doc_text,\n",
    "    }\n",
    "\n",
    "    pymongo_helpers.add_document(rel_collection, document)\n",
    "    pymongo_helpers.add_document(docs_collection, doc_data)\n",
    "    pymongo_helpers.add_document(queries_collection, query_data)\n",
    "\n",
    "    time.sleep(10)"
   ]
  }
 ],
 "metadata": {
  "kernelspec": {
   "display_name": "venv",
   "language": "python",
   "name": "python3"
  },
  "language_info": {
   "codemirror_mode": {
    "name": "ipython",
    "version": 3
   },
   "file_extension": ".py",
   "mimetype": "text/x-python",
   "name": "python",
   "nbconvert_exporter": "python",
   "pygments_lexer": "ipython3",
   "version": "3.9.21"
  }
 },
 "nbformat": 4,
 "nbformat_minor": 5
}
